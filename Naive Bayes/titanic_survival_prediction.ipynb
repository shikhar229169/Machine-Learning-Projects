{
 "cells": [
  {
   "cell_type": "code",
   "execution_count": 1,
   "id": "c3932cb9",
   "metadata": {},
   "outputs": [],
   "source": [
    "import pandas as pd\n",
    "from sklearn.model_selection import train_test_split\n",
    "from sklearn.naive_bayes import GaussianNB\n",
    "from sklearn.metrics import confusion_matrix\n",
    "import seaborn as sn\n",
    "import matplotlib.pyplot as plt"
   ]
  },
  {
   "cell_type": "code",
   "execution_count": 2,
   "id": "8c5858b5",
   "metadata": {},
   "outputs": [
    {
     "data": {
      "text/html": [
       "<div>\n",
       "<style scoped>\n",
       "    .dataframe tbody tr th:only-of-type {\n",
       "        vertical-align: middle;\n",
       "    }\n",
       "\n",
       "    .dataframe tbody tr th {\n",
       "        vertical-align: top;\n",
       "    }\n",
       "\n",
       "    .dataframe thead th {\n",
       "        text-align: right;\n",
       "    }\n",
       "</style>\n",
       "<table border=\"1\" class=\"dataframe\">\n",
       "  <thead>\n",
       "    <tr style=\"text-align: right;\">\n",
       "      <th></th>\n",
       "      <th>PassengerId</th>\n",
       "      <th>Name</th>\n",
       "      <th>Pclass</th>\n",
       "      <th>Sex</th>\n",
       "      <th>Age</th>\n",
       "      <th>SibSp</th>\n",
       "      <th>Parch</th>\n",
       "      <th>Ticket</th>\n",
       "      <th>Fare</th>\n",
       "      <th>Cabin</th>\n",
       "      <th>Embarked</th>\n",
       "      <th>Survived</th>\n",
       "    </tr>\n",
       "  </thead>\n",
       "  <tbody>\n",
       "    <tr>\n",
       "      <th>0</th>\n",
       "      <td>1</td>\n",
       "      <td>Braund, Mr. Owen Harris</td>\n",
       "      <td>3</td>\n",
       "      <td>male</td>\n",
       "      <td>22.0</td>\n",
       "      <td>1</td>\n",
       "      <td>0</td>\n",
       "      <td>A/5 21171</td>\n",
       "      <td>7.2500</td>\n",
       "      <td>NaN</td>\n",
       "      <td>S</td>\n",
       "      <td>0</td>\n",
       "    </tr>\n",
       "    <tr>\n",
       "      <th>1</th>\n",
       "      <td>2</td>\n",
       "      <td>Cumings, Mrs. John Bradley (Florence Briggs Th...</td>\n",
       "      <td>1</td>\n",
       "      <td>female</td>\n",
       "      <td>38.0</td>\n",
       "      <td>1</td>\n",
       "      <td>0</td>\n",
       "      <td>PC 17599</td>\n",
       "      <td>71.2833</td>\n",
       "      <td>C85</td>\n",
       "      <td>C</td>\n",
       "      <td>1</td>\n",
       "    </tr>\n",
       "    <tr>\n",
       "      <th>2</th>\n",
       "      <td>3</td>\n",
       "      <td>Heikkinen, Miss. Laina</td>\n",
       "      <td>3</td>\n",
       "      <td>female</td>\n",
       "      <td>26.0</td>\n",
       "      <td>0</td>\n",
       "      <td>0</td>\n",
       "      <td>STON/O2. 3101282</td>\n",
       "      <td>7.9250</td>\n",
       "      <td>NaN</td>\n",
       "      <td>S</td>\n",
       "      <td>1</td>\n",
       "    </tr>\n",
       "    <tr>\n",
       "      <th>3</th>\n",
       "      <td>4</td>\n",
       "      <td>Futrelle, Mrs. Jacques Heath (Lily May Peel)</td>\n",
       "      <td>1</td>\n",
       "      <td>female</td>\n",
       "      <td>35.0</td>\n",
       "      <td>1</td>\n",
       "      <td>0</td>\n",
       "      <td>113803</td>\n",
       "      <td>53.1000</td>\n",
       "      <td>C123</td>\n",
       "      <td>S</td>\n",
       "      <td>1</td>\n",
       "    </tr>\n",
       "    <tr>\n",
       "      <th>4</th>\n",
       "      <td>5</td>\n",
       "      <td>Allen, Mr. William Henry</td>\n",
       "      <td>3</td>\n",
       "      <td>male</td>\n",
       "      <td>35.0</td>\n",
       "      <td>0</td>\n",
       "      <td>0</td>\n",
       "      <td>373450</td>\n",
       "      <td>8.0500</td>\n",
       "      <td>NaN</td>\n",
       "      <td>S</td>\n",
       "      <td>0</td>\n",
       "    </tr>\n",
       "  </tbody>\n",
       "</table>\n",
       "</div>"
      ],
      "text/plain": [
       "   PassengerId                                               Name  Pclass  \\\n",
       "0            1                            Braund, Mr. Owen Harris       3   \n",
       "1            2  Cumings, Mrs. John Bradley (Florence Briggs Th...       1   \n",
       "2            3                             Heikkinen, Miss. Laina       3   \n",
       "3            4       Futrelle, Mrs. Jacques Heath (Lily May Peel)       1   \n",
       "4            5                           Allen, Mr. William Henry       3   \n",
       "\n",
       "      Sex   Age  SibSp  Parch            Ticket     Fare Cabin Embarked  \\\n",
       "0    male  22.0      1      0         A/5 21171   7.2500   NaN        S   \n",
       "1  female  38.0      1      0          PC 17599  71.2833   C85        C   \n",
       "2  female  26.0      0      0  STON/O2. 3101282   7.9250   NaN        S   \n",
       "3  female  35.0      1      0            113803  53.1000  C123        S   \n",
       "4    male  35.0      0      0            373450   8.0500   NaN        S   \n",
       "\n",
       "   Survived  \n",
       "0         0  \n",
       "1         1  \n",
       "2         1  \n",
       "3         1  \n",
       "4         0  "
      ]
     },
     "execution_count": 2,
     "metadata": {},
     "output_type": "execute_result"
    }
   ],
   "source": [
    "df = pd.read_csv('titanic.csv')\n",
    "df.head()"
   ]
  },
  {
   "cell_type": "markdown",
   "id": "4d785e52",
   "metadata": {},
   "source": [
    "## Data Preprocessing"
   ]
  },
  {
   "cell_type": "markdown",
   "id": "64a38e53",
   "metadata": {},
   "source": [
    "Removing the columns which don't have any impact on survival"
   ]
  },
  {
   "cell_type": "code",
   "execution_count": 3,
   "id": "da373e9a",
   "metadata": {},
   "outputs": [
    {
     "data": {
      "text/html": [
       "<div>\n",
       "<style scoped>\n",
       "    .dataframe tbody tr th:only-of-type {\n",
       "        vertical-align: middle;\n",
       "    }\n",
       "\n",
       "    .dataframe tbody tr th {\n",
       "        vertical-align: top;\n",
       "    }\n",
       "\n",
       "    .dataframe thead th {\n",
       "        text-align: right;\n",
       "    }\n",
       "</style>\n",
       "<table border=\"1\" class=\"dataframe\">\n",
       "  <thead>\n",
       "    <tr style=\"text-align: right;\">\n",
       "      <th></th>\n",
       "      <th>Pclass</th>\n",
       "      <th>Sex</th>\n",
       "      <th>Age</th>\n",
       "      <th>Fare</th>\n",
       "      <th>Survived</th>\n",
       "    </tr>\n",
       "  </thead>\n",
       "  <tbody>\n",
       "    <tr>\n",
       "      <th>0</th>\n",
       "      <td>3</td>\n",
       "      <td>male</td>\n",
       "      <td>22.0</td>\n",
       "      <td>7.2500</td>\n",
       "      <td>0</td>\n",
       "    </tr>\n",
       "    <tr>\n",
       "      <th>1</th>\n",
       "      <td>1</td>\n",
       "      <td>female</td>\n",
       "      <td>38.0</td>\n",
       "      <td>71.2833</td>\n",
       "      <td>1</td>\n",
       "    </tr>\n",
       "    <tr>\n",
       "      <th>2</th>\n",
       "      <td>3</td>\n",
       "      <td>female</td>\n",
       "      <td>26.0</td>\n",
       "      <td>7.9250</td>\n",
       "      <td>1</td>\n",
       "    </tr>\n",
       "    <tr>\n",
       "      <th>3</th>\n",
       "      <td>1</td>\n",
       "      <td>female</td>\n",
       "      <td>35.0</td>\n",
       "      <td>53.1000</td>\n",
       "      <td>1</td>\n",
       "    </tr>\n",
       "    <tr>\n",
       "      <th>4</th>\n",
       "      <td>3</td>\n",
       "      <td>male</td>\n",
       "      <td>35.0</td>\n",
       "      <td>8.0500</td>\n",
       "      <td>0</td>\n",
       "    </tr>\n",
       "  </tbody>\n",
       "</table>\n",
       "</div>"
      ],
      "text/plain": [
       "   Pclass     Sex   Age     Fare  Survived\n",
       "0       3    male  22.0   7.2500         0\n",
       "1       1  female  38.0  71.2833         1\n",
       "2       3  female  26.0   7.9250         1\n",
       "3       1  female  35.0  53.1000         1\n",
       "4       3    male  35.0   8.0500         0"
      ]
     },
     "execution_count": 3,
     "metadata": {},
     "output_type": "execute_result"
    }
   ],
   "source": [
    "df.drop(['PassengerId', 'Name', 'SibSp', 'Parch', 'Ticket', 'Cabin', 'Embarked'], axis = 'columns', inplace = True)\n",
    "df.head()"
   ]
  },
  {
   "cell_type": "code",
   "execution_count": 4,
   "id": "82f01319",
   "metadata": {},
   "outputs": [
    {
     "data": {
      "text/plain": [
       "True"
      ]
     },
     "execution_count": 4,
     "metadata": {},
     "output_type": "execute_result"
    }
   ],
   "source": [
    "df.isnull().values.any()"
   ]
  },
  {
   "cell_type": "code",
   "execution_count": 5,
   "id": "89be17c8",
   "metadata": {},
   "outputs": [
    {
     "data": {
      "text/plain": [
       "(False, False, True, False, False)"
      ]
     },
     "execution_count": 5,
     "metadata": {},
     "output_type": "execute_result"
    }
   ],
   "source": [
    "(df.Pclass.isnull().values.any(),\n",
    "df.Sex.isnull().values.any(),\n",
    "df.Age.isnull().values.any(),\n",
    "df.Fare.isnull().values.any(),\n",
    "df.Survived.isnull().values.any())"
   ]
  },
  {
   "cell_type": "markdown",
   "id": "9ba9ef9e",
   "metadata": {},
   "source": [
    "### Dealing with Null Values\n",
    "Here the Age attribute has null values, filling all null values with the mean value of ages"
   ]
  },
  {
   "cell_type": "code",
   "execution_count": 6,
   "id": "757cb9d4",
   "metadata": {},
   "outputs": [
    {
     "data": {
      "text/html": [
       "<div>\n",
       "<style scoped>\n",
       "    .dataframe tbody tr th:only-of-type {\n",
       "        vertical-align: middle;\n",
       "    }\n",
       "\n",
       "    .dataframe tbody tr th {\n",
       "        vertical-align: top;\n",
       "    }\n",
       "\n",
       "    .dataframe thead th {\n",
       "        text-align: right;\n",
       "    }\n",
       "</style>\n",
       "<table border=\"1\" class=\"dataframe\">\n",
       "  <thead>\n",
       "    <tr style=\"text-align: right;\">\n",
       "      <th></th>\n",
       "      <th>Pclass</th>\n",
       "      <th>Sex</th>\n",
       "      <th>Age</th>\n",
       "      <th>Fare</th>\n",
       "      <th>Survived</th>\n",
       "    </tr>\n",
       "  </thead>\n",
       "  <tbody>\n",
       "    <tr>\n",
       "      <th>0</th>\n",
       "      <td>3</td>\n",
       "      <td>male</td>\n",
       "      <td>22.0</td>\n",
       "      <td>7.2500</td>\n",
       "      <td>0</td>\n",
       "    </tr>\n",
       "    <tr>\n",
       "      <th>1</th>\n",
       "      <td>1</td>\n",
       "      <td>female</td>\n",
       "      <td>38.0</td>\n",
       "      <td>71.2833</td>\n",
       "      <td>1</td>\n",
       "    </tr>\n",
       "    <tr>\n",
       "      <th>2</th>\n",
       "      <td>3</td>\n",
       "      <td>female</td>\n",
       "      <td>26.0</td>\n",
       "      <td>7.9250</td>\n",
       "      <td>1</td>\n",
       "    </tr>\n",
       "    <tr>\n",
       "      <th>3</th>\n",
       "      <td>1</td>\n",
       "      <td>female</td>\n",
       "      <td>35.0</td>\n",
       "      <td>53.1000</td>\n",
       "      <td>1</td>\n",
       "    </tr>\n",
       "    <tr>\n",
       "      <th>4</th>\n",
       "      <td>3</td>\n",
       "      <td>male</td>\n",
       "      <td>35.0</td>\n",
       "      <td>8.0500</td>\n",
       "      <td>0</td>\n",
       "    </tr>\n",
       "  </tbody>\n",
       "</table>\n",
       "</div>"
      ],
      "text/plain": [
       "   Pclass     Sex   Age     Fare  Survived\n",
       "0       3    male  22.0   7.2500         0\n",
       "1       1  female  38.0  71.2833         1\n",
       "2       3  female  26.0   7.9250         1\n",
       "3       1  female  35.0  53.1000         1\n",
       "4       3    male  35.0   8.0500         0"
      ]
     },
     "execution_count": 6,
     "metadata": {},
     "output_type": "execute_result"
    }
   ],
   "source": [
    "mean_age = df['Age'].mean()\n",
    "df['Age'] = df['Age'].fillna(mean_age)\n",
    "df.head()"
   ]
  },
  {
   "cell_type": "code",
   "execution_count": 7,
   "id": "dc6dcdda",
   "metadata": {},
   "outputs": [
    {
     "data": {
      "text/plain": [
       "(False, False, False, False, False)"
      ]
     },
     "execution_count": 7,
     "metadata": {},
     "output_type": "execute_result"
    }
   ],
   "source": [
    "(df.Pclass.isnull().values.any(),\n",
    "df.Sex.isnull().values.any(),\n",
    "df.Age.isnull().values.any(),\n",
    "df.Fare.isnull().values.any(),\n",
    "df.Survived.isnull().values.any())"
   ]
  },
  {
   "cell_type": "markdown",
   "id": "014edbb9",
   "metadata": {},
   "source": [
    "### Converting Categorical values to Numerical values\n",
    "Here the Sex attribute has text values, converting them to numerical form"
   ]
  },
  {
   "cell_type": "code",
   "execution_count": 8,
   "id": "265301f6",
   "metadata": {},
   "outputs": [
    {
     "data": {
      "text/html": [
       "<div>\n",
       "<style scoped>\n",
       "    .dataframe tbody tr th:only-of-type {\n",
       "        vertical-align: middle;\n",
       "    }\n",
       "\n",
       "    .dataframe tbody tr th {\n",
       "        vertical-align: top;\n",
       "    }\n",
       "\n",
       "    .dataframe thead th {\n",
       "        text-align: right;\n",
       "    }\n",
       "</style>\n",
       "<table border=\"1\" class=\"dataframe\">\n",
       "  <thead>\n",
       "    <tr style=\"text-align: right;\">\n",
       "      <th></th>\n",
       "      <th>Pclass</th>\n",
       "      <th>Sex</th>\n",
       "      <th>Age</th>\n",
       "      <th>Fare</th>\n",
       "      <th>Survived</th>\n",
       "      <th>female</th>\n",
       "      <th>male</th>\n",
       "    </tr>\n",
       "  </thead>\n",
       "  <tbody>\n",
       "    <tr>\n",
       "      <th>0</th>\n",
       "      <td>3</td>\n",
       "      <td>male</td>\n",
       "      <td>22.0</td>\n",
       "      <td>7.2500</td>\n",
       "      <td>0</td>\n",
       "      <td>0</td>\n",
       "      <td>1</td>\n",
       "    </tr>\n",
       "    <tr>\n",
       "      <th>1</th>\n",
       "      <td>1</td>\n",
       "      <td>female</td>\n",
       "      <td>38.0</td>\n",
       "      <td>71.2833</td>\n",
       "      <td>1</td>\n",
       "      <td>1</td>\n",
       "      <td>0</td>\n",
       "    </tr>\n",
       "    <tr>\n",
       "      <th>2</th>\n",
       "      <td>3</td>\n",
       "      <td>female</td>\n",
       "      <td>26.0</td>\n",
       "      <td>7.9250</td>\n",
       "      <td>1</td>\n",
       "      <td>1</td>\n",
       "      <td>0</td>\n",
       "    </tr>\n",
       "    <tr>\n",
       "      <th>3</th>\n",
       "      <td>1</td>\n",
       "      <td>female</td>\n",
       "      <td>35.0</td>\n",
       "      <td>53.1000</td>\n",
       "      <td>1</td>\n",
       "      <td>1</td>\n",
       "      <td>0</td>\n",
       "    </tr>\n",
       "    <tr>\n",
       "      <th>4</th>\n",
       "      <td>3</td>\n",
       "      <td>male</td>\n",
       "      <td>35.0</td>\n",
       "      <td>8.0500</td>\n",
       "      <td>0</td>\n",
       "      <td>0</td>\n",
       "      <td>1</td>\n",
       "    </tr>\n",
       "  </tbody>\n",
       "</table>\n",
       "</div>"
      ],
      "text/plain": [
       "   Pclass     Sex   Age     Fare  Survived  female  male\n",
       "0       3    male  22.0   7.2500         0       0     1\n",
       "1       1  female  38.0  71.2833         1       1     0\n",
       "2       3  female  26.0   7.9250         1       1     0\n",
       "3       1  female  35.0  53.1000         1       1     0\n",
       "4       3    male  35.0   8.0500         0       0     1"
      ]
     },
     "execution_count": 8,
     "metadata": {},
     "output_type": "execute_result"
    }
   ],
   "source": [
    "Sex_dummies = pd.get_dummies(df['Sex'])\n",
    "df = pd.concat([df, Sex_dummies], axis = 'columns')\n",
    "df.head()"
   ]
  },
  {
   "cell_type": "code",
   "execution_count": 9,
   "id": "c966e94c",
   "metadata": {},
   "outputs": [
    {
     "data": {
      "text/html": [
       "<div>\n",
       "<style scoped>\n",
       "    .dataframe tbody tr th:only-of-type {\n",
       "        vertical-align: middle;\n",
       "    }\n",
       "\n",
       "    .dataframe tbody tr th {\n",
       "        vertical-align: top;\n",
       "    }\n",
       "\n",
       "    .dataframe thead th {\n",
       "        text-align: right;\n",
       "    }\n",
       "</style>\n",
       "<table border=\"1\" class=\"dataframe\">\n",
       "  <thead>\n",
       "    <tr style=\"text-align: right;\">\n",
       "      <th></th>\n",
       "      <th>Pclass</th>\n",
       "      <th>Age</th>\n",
       "      <th>Fare</th>\n",
       "      <th>Survived</th>\n",
       "      <th>female</th>\n",
       "    </tr>\n",
       "  </thead>\n",
       "  <tbody>\n",
       "    <tr>\n",
       "      <th>0</th>\n",
       "      <td>3</td>\n",
       "      <td>22.0</td>\n",
       "      <td>7.2500</td>\n",
       "      <td>0</td>\n",
       "      <td>0</td>\n",
       "    </tr>\n",
       "    <tr>\n",
       "      <th>1</th>\n",
       "      <td>1</td>\n",
       "      <td>38.0</td>\n",
       "      <td>71.2833</td>\n",
       "      <td>1</td>\n",
       "      <td>1</td>\n",
       "    </tr>\n",
       "    <tr>\n",
       "      <th>2</th>\n",
       "      <td>3</td>\n",
       "      <td>26.0</td>\n",
       "      <td>7.9250</td>\n",
       "      <td>1</td>\n",
       "      <td>1</td>\n",
       "    </tr>\n",
       "    <tr>\n",
       "      <th>3</th>\n",
       "      <td>1</td>\n",
       "      <td>35.0</td>\n",
       "      <td>53.1000</td>\n",
       "      <td>1</td>\n",
       "      <td>1</td>\n",
       "    </tr>\n",
       "    <tr>\n",
       "      <th>4</th>\n",
       "      <td>3</td>\n",
       "      <td>35.0</td>\n",
       "      <td>8.0500</td>\n",
       "      <td>0</td>\n",
       "      <td>0</td>\n",
       "    </tr>\n",
       "  </tbody>\n",
       "</table>\n",
       "</div>"
      ],
      "text/plain": [
       "   Pclass   Age     Fare  Survived  female\n",
       "0       3  22.0   7.2500         0       0\n",
       "1       1  38.0  71.2833         1       1\n",
       "2       3  26.0   7.9250         1       1\n",
       "3       1  35.0  53.1000         1       1\n",
       "4       3  35.0   8.0500         0       0"
      ]
     },
     "execution_count": 9,
     "metadata": {},
     "output_type": "execute_result"
    }
   ],
   "source": [
    "df.drop(['Sex', 'male'], axis = 'columns', inplace = True)\n",
    "df.head()"
   ]
  },
  {
   "cell_type": "code",
   "execution_count": 10,
   "id": "281ddd16",
   "metadata": {},
   "outputs": [],
   "source": [
    "inputs = df.drop(['Survived'], axis = 'columns')\n",
    "target = df['Survived']"
   ]
  },
  {
   "cell_type": "code",
   "execution_count": 11,
   "id": "c4463a30",
   "metadata": {},
   "outputs": [
    {
     "data": {
      "text/html": [
       "<div>\n",
       "<style scoped>\n",
       "    .dataframe tbody tr th:only-of-type {\n",
       "        vertical-align: middle;\n",
       "    }\n",
       "\n",
       "    .dataframe tbody tr th {\n",
       "        vertical-align: top;\n",
       "    }\n",
       "\n",
       "    .dataframe thead th {\n",
       "        text-align: right;\n",
       "    }\n",
       "</style>\n",
       "<table border=\"1\" class=\"dataframe\">\n",
       "  <thead>\n",
       "    <tr style=\"text-align: right;\">\n",
       "      <th></th>\n",
       "      <th>Pclass</th>\n",
       "      <th>Age</th>\n",
       "      <th>Fare</th>\n",
       "      <th>female</th>\n",
       "    </tr>\n",
       "  </thead>\n",
       "  <tbody>\n",
       "    <tr>\n",
       "      <th>0</th>\n",
       "      <td>3</td>\n",
       "      <td>22.0</td>\n",
       "      <td>7.2500</td>\n",
       "      <td>0</td>\n",
       "    </tr>\n",
       "    <tr>\n",
       "      <th>1</th>\n",
       "      <td>1</td>\n",
       "      <td>38.0</td>\n",
       "      <td>71.2833</td>\n",
       "      <td>1</td>\n",
       "    </tr>\n",
       "    <tr>\n",
       "      <th>2</th>\n",
       "      <td>3</td>\n",
       "      <td>26.0</td>\n",
       "      <td>7.9250</td>\n",
       "      <td>1</td>\n",
       "    </tr>\n",
       "    <tr>\n",
       "      <th>3</th>\n",
       "      <td>1</td>\n",
       "      <td>35.0</td>\n",
       "      <td>53.1000</td>\n",
       "      <td>1</td>\n",
       "    </tr>\n",
       "    <tr>\n",
       "      <th>4</th>\n",
       "      <td>3</td>\n",
       "      <td>35.0</td>\n",
       "      <td>8.0500</td>\n",
       "      <td>0</td>\n",
       "    </tr>\n",
       "  </tbody>\n",
       "</table>\n",
       "</div>"
      ],
      "text/plain": [
       "   Pclass   Age     Fare  female\n",
       "0       3  22.0   7.2500       0\n",
       "1       1  38.0  71.2833       1\n",
       "2       3  26.0   7.9250       1\n",
       "3       1  35.0  53.1000       1\n",
       "4       3  35.0   8.0500       0"
      ]
     },
     "execution_count": 11,
     "metadata": {},
     "output_type": "execute_result"
    }
   ],
   "source": [
    "inputs.head()"
   ]
  },
  {
   "cell_type": "code",
   "execution_count": 12,
   "id": "a95a767a",
   "metadata": {},
   "outputs": [
    {
     "data": {
      "text/plain": [
       "0    0\n",
       "1    1\n",
       "2    1\n",
       "3    1\n",
       "4    0\n",
       "Name: Survived, dtype: int64"
      ]
     },
     "execution_count": 12,
     "metadata": {},
     "output_type": "execute_result"
    }
   ],
   "source": [
    "target.head()"
   ]
  },
  {
   "cell_type": "code",
   "execution_count": 13,
   "id": "a0353acc",
   "metadata": {},
   "outputs": [],
   "source": [
    "(x_train, x_test, y_train, y_test) = train_test_split(inputs, target, train_size = 0.8, random_state = 18)"
   ]
  },
  {
   "cell_type": "code",
   "execution_count": 14,
   "id": "df6895f7",
   "metadata": {},
   "outputs": [
    {
     "data": {
      "text/plain": [
       "(712, 179)"
      ]
     },
     "execution_count": 14,
     "metadata": {},
     "output_type": "execute_result"
    }
   ],
   "source": [
    "len(x_train), len(x_test)"
   ]
  },
  {
   "cell_type": "code",
   "execution_count": 15,
   "id": "34915d82",
   "metadata": {},
   "outputs": [
    {
     "data": {
      "text/html": [
       "<style>#sk-container-id-1 {color: black;}#sk-container-id-1 pre{padding: 0;}#sk-container-id-1 div.sk-toggleable {background-color: white;}#sk-container-id-1 label.sk-toggleable__label {cursor: pointer;display: block;width: 100%;margin-bottom: 0;padding: 0.3em;box-sizing: border-box;text-align: center;}#sk-container-id-1 label.sk-toggleable__label-arrow:before {content: \"▸\";float: left;margin-right: 0.25em;color: #696969;}#sk-container-id-1 label.sk-toggleable__label-arrow:hover:before {color: black;}#sk-container-id-1 div.sk-estimator:hover label.sk-toggleable__label-arrow:before {color: black;}#sk-container-id-1 div.sk-toggleable__content {max-height: 0;max-width: 0;overflow: hidden;text-align: left;background-color: #f0f8ff;}#sk-container-id-1 div.sk-toggleable__content pre {margin: 0.2em;color: black;border-radius: 0.25em;background-color: #f0f8ff;}#sk-container-id-1 input.sk-toggleable__control:checked~div.sk-toggleable__content {max-height: 200px;max-width: 100%;overflow: auto;}#sk-container-id-1 input.sk-toggleable__control:checked~label.sk-toggleable__label-arrow:before {content: \"▾\";}#sk-container-id-1 div.sk-estimator input.sk-toggleable__control:checked~label.sk-toggleable__label {background-color: #d4ebff;}#sk-container-id-1 div.sk-label input.sk-toggleable__control:checked~label.sk-toggleable__label {background-color: #d4ebff;}#sk-container-id-1 input.sk-hidden--visually {border: 0;clip: rect(1px 1px 1px 1px);clip: rect(1px, 1px, 1px, 1px);height: 1px;margin: -1px;overflow: hidden;padding: 0;position: absolute;width: 1px;}#sk-container-id-1 div.sk-estimator {font-family: monospace;background-color: #f0f8ff;border: 1px dotted black;border-radius: 0.25em;box-sizing: border-box;margin-bottom: 0.5em;}#sk-container-id-1 div.sk-estimator:hover {background-color: #d4ebff;}#sk-container-id-1 div.sk-parallel-item::after {content: \"\";width: 100%;border-bottom: 1px solid gray;flex-grow: 1;}#sk-container-id-1 div.sk-label:hover label.sk-toggleable__label {background-color: #d4ebff;}#sk-container-id-1 div.sk-serial::before {content: \"\";position: absolute;border-left: 1px solid gray;box-sizing: border-box;top: 0;bottom: 0;left: 50%;z-index: 0;}#sk-container-id-1 div.sk-serial {display: flex;flex-direction: column;align-items: center;background-color: white;padding-right: 0.2em;padding-left: 0.2em;position: relative;}#sk-container-id-1 div.sk-item {position: relative;z-index: 1;}#sk-container-id-1 div.sk-parallel {display: flex;align-items: stretch;justify-content: center;background-color: white;position: relative;}#sk-container-id-1 div.sk-item::before, #sk-container-id-1 div.sk-parallel-item::before {content: \"\";position: absolute;border-left: 1px solid gray;box-sizing: border-box;top: 0;bottom: 0;left: 50%;z-index: -1;}#sk-container-id-1 div.sk-parallel-item {display: flex;flex-direction: column;z-index: 1;position: relative;background-color: white;}#sk-container-id-1 div.sk-parallel-item:first-child::after {align-self: flex-end;width: 50%;}#sk-container-id-1 div.sk-parallel-item:last-child::after {align-self: flex-start;width: 50%;}#sk-container-id-1 div.sk-parallel-item:only-child::after {width: 0;}#sk-container-id-1 div.sk-dashed-wrapped {border: 1px dashed gray;margin: 0 0.4em 0.5em 0.4em;box-sizing: border-box;padding-bottom: 0.4em;background-color: white;}#sk-container-id-1 div.sk-label label {font-family: monospace;font-weight: bold;display: inline-block;line-height: 1.2em;}#sk-container-id-1 div.sk-label-container {text-align: center;}#sk-container-id-1 div.sk-container {/* jupyter's `normalize.less` sets `[hidden] { display: none; }` but bootstrap.min.css set `[hidden] { display: none !important; }` so we also need the `!important` here to be able to override the default hidden behavior on the sphinx rendered scikit-learn.org. See: https://github.com/scikit-learn/scikit-learn/issues/21755 */display: inline-block !important;position: relative;}#sk-container-id-1 div.sk-text-repr-fallback {display: none;}</style><div id=\"sk-container-id-1\" class=\"sk-top-container\"><div class=\"sk-text-repr-fallback\"><pre>GaussianNB()</pre><b>In a Jupyter environment, please rerun this cell to show the HTML representation or trust the notebook. <br />On GitHub, the HTML representation is unable to render, please try loading this page with nbviewer.org.</b></div><div class=\"sk-container\" hidden><div class=\"sk-item\"><div class=\"sk-estimator sk-toggleable\"><input class=\"sk-toggleable__control sk-hidden--visually\" id=\"sk-estimator-id-1\" type=\"checkbox\" checked><label for=\"sk-estimator-id-1\" class=\"sk-toggleable__label sk-toggleable__label-arrow\">GaussianNB</label><div class=\"sk-toggleable__content\"><pre>GaussianNB()</pre></div></div></div></div></div>"
      ],
      "text/plain": [
       "GaussianNB()"
      ]
     },
     "execution_count": 15,
     "metadata": {},
     "output_type": "execute_result"
    }
   ],
   "source": [
    "model = GaussianNB()\n",
    "model.fit(x_train, y_train)"
   ]
  },
  {
   "cell_type": "code",
   "execution_count": 16,
   "id": "1b105310",
   "metadata": {},
   "outputs": [
    {
     "data": {
      "text/plain": [
       "0.8268156424581006"
      ]
     },
     "execution_count": 16,
     "metadata": {},
     "output_type": "execute_result"
    }
   ],
   "source": [
    "model.score(x_test, y_test)"
   ]
  },
  {
   "cell_type": "code",
   "execution_count": 17,
   "id": "b8d31125",
   "metadata": {},
   "outputs": [],
   "source": [
    "y_predicted = model.predict(x_test)"
   ]
  },
  {
   "cell_type": "code",
   "execution_count": 18,
   "id": "9fe5dea5",
   "metadata": {},
   "outputs": [
    {
     "data": {
      "text/plain": [
       "array([[92, 17],\n",
       "       [14, 56]], dtype=int64)"
      ]
     },
     "execution_count": 18,
     "metadata": {},
     "output_type": "execute_result"
    }
   ],
   "source": [
    "cm = confusion_matrix(y_test, y_predicted)\n",
    "cm"
   ]
  },
  {
   "cell_type": "code",
   "execution_count": 19,
   "id": "8e1bf150",
   "metadata": {
    "scrolled": true
   },
   "outputs": [
    {
     "data": {
      "text/plain": [
       "Text(33.22222222222222, 0.5, 'Truth')"
      ]
     },
     "execution_count": 19,
     "metadata": {},
     "output_type": "execute_result"
    },
    {
     "data": {
      "image/png": "[encoded data removed]",
      "text/plain": [
       "<Figure size 500x400 with 2 Axes>"
      ]
     },
     "metadata": {},
     "output_type": "display_data"
    }
   ],
   "source": [
    "plt.figure(figsize = (5, 4))\n",
    "sn.heatmap(cm, annot = True)\n",
    "plt.xlabel('Predicted')\n",
    "plt.ylabel('Truth')"
   ]
  },
  {
   "cell_type": "code",
   "execution_count": 20,
   "id": "7347f157",
   "metadata": {},
   "outputs": [
    {
     "data": {
      "text/plain": [
       "array([[7.06136753e-01, 2.93863247e-01],\n",
       "       [9.26521951e-01, 7.34780489e-02],\n",
       "       [5.78486616e-02, 9.42151338e-01],\n",
       "       [9.19650015e-01, 8.03499846e-02],\n",
       "       [6.02621153e-02, 9.39737885e-01],\n",
       "       [9.59542680e-01, 4.04573196e-02],\n",
       "       [1.97456178e-01, 8.02543822e-01],\n",
       "       [9.62399634e-01, 3.76003662e-02],\n",
       "       [2.77330214e-01, 7.22669786e-01],\n",
       "       [6.55868651e-01, 3.44131349e-01],\n",
       "       [9.62406832e-01, 3.75931683e-02],\n",
       "       [9.61737807e-01, 3.82621926e-02],\n",
       "       [4.20806569e-01, 5.79193431e-01],\n",
       "       [3.79925281e-01, 6.20074719e-01],\n",
       "       [5.71161908e-01, 4.28838092e-01],\n",
       "       [9.53163810e-01, 4.68361900e-02],\n",
       "       [2.03395841e-01, 7.96604159e-01],\n",
       "       [2.53551403e-01, 7.46448597e-01],\n",
       "       [9.59519930e-01, 4.04800698e-02],\n",
       "       [4.09983580e-01, 5.90016420e-01],\n",
       "       [9.17410393e-01, 8.25896074e-02],\n",
       "       [9.59307371e-01, 4.06926286e-02],\n",
       "       [9.21539160e-01, 7.84608405e-02],\n",
       "       [9.25067935e-01, 7.49320654e-02],\n",
       "       [3.80653305e-03, 9.96193467e-01],\n",
       "       [9.62369177e-01, 3.76308234e-02],\n",
       "       [9.18245493e-01, 8.17545067e-02],\n",
       "       [3.58242607e-02, 9.64175739e-01],\n",
       "       [4.22717133e-01, 5.77282867e-01],\n",
       "       [7.72368790e-02, 9.22763121e-01],\n",
       "       [9.61517983e-01, 3.84820170e-02],\n",
       "       [9.61578913e-01, 3.84210869e-02],\n",
       "       [9.04669263e-01, 9.53307366e-02],\n",
       "       [9.57501955e-01, 4.24980445e-02],\n",
       "       [6.42104223e-01, 3.57895777e-01],\n",
       "       [2.40573751e-02, 9.75942625e-01],\n",
       "       [9.57815686e-01, 4.21843138e-02],\n",
       "       [9.34911179e-01, 6.50888214e-02],\n",
       "       [9.61424787e-01, 3.85752126e-02],\n",
       "       [9.16917647e-01, 8.30823528e-02],\n",
       "       [9.60067039e-01, 3.99329614e-02],\n",
       "       [9.52458723e-01, 4.75412770e-02],\n",
       "       [6.44403406e-01, 3.55596594e-01],\n",
       "       [4.22702898e-01, 5.77297102e-01],\n",
       "       [4.13513237e-01, 5.86486763e-01],\n",
       "       [2.57346398e-02, 9.74265360e-01],\n",
       "       [8.45327595e-01, 1.54672405e-01],\n",
       "       [5.36601792e-02, 9.46339821e-01],\n",
       "       [3.33359132e-01, 6.66640868e-01],\n",
       "       [2.58400897e-01, 7.41599103e-01],\n",
       "       [2.08598000e-02, 9.79140200e-01],\n",
       "       [4.00270125e-01, 5.99729875e-01],\n",
       "       [9.61424009e-01, 3.85759914e-02],\n",
       "       [3.17918499e-01, 6.82081501e-01],\n",
       "       [9.25031598e-01, 7.49684018e-02],\n",
       "       [3.09945090e-07, 9.99999690e-01],\n",
       "       [8.46465722e-02, 9.15353428e-01],\n",
       "       [9.61275692e-01, 3.87243077e-02],\n",
       "       [6.36918531e-01, 3.63081469e-01],\n",
       "       [9.51885831e-01, 4.81141688e-02],\n",
       "       [4.92493628e-01, 5.07506372e-01],\n",
       "       [3.95720136e-01, 6.04279864e-01],\n",
       "       [9.42882864e-01, 5.71171360e-02],\n",
       "       [9.57627312e-01, 4.23726880e-02],\n",
       "       [3.80655997e-01, 6.19344003e-01],\n",
       "       [2.54563626e-01, 7.45436374e-01],\n",
       "       [2.41389485e-01, 7.58610515e-01],\n",
       "       [2.65709521e-01, 7.34290479e-01],\n",
       "       [9.61517983e-01, 3.84820170e-02],\n",
       "       [2.60979619e-01, 7.39020381e-01],\n",
       "       [2.42364877e-10, 1.00000000e+00],\n",
       "       [1.53610009e-01, 8.46389991e-01],\n",
       "       [9.60555236e-01, 3.94447636e-02],\n",
       "       [1.40348189e-01, 8.59651811e-01],\n",
       "       [8.42579765e-02, 9.15742024e-01],\n",
       "       [9.60709481e-01, 3.92905187e-02],\n",
       "       [9.54415386e-01, 4.55846139e-02],\n",
       "       [9.60537799e-01, 3.94622006e-02],\n",
       "       [3.45041907e-01, 6.54958093e-01],\n",
       "       [9.34936825e-01, 6.50631747e-02],\n",
       "       [9.61513662e-01, 3.84863380e-02],\n",
       "       [1.24859097e-01, 8.75140903e-01],\n",
       "       [4.10053998e-01, 5.89946002e-01],\n",
       "       [9.61568638e-01, 3.84313623e-02],\n",
       "       [6.88307554e-01, 3.11692446e-01],\n",
       "       [4.10220870e-01, 5.89779130e-01],\n",
       "       [8.53453189e-01, 1.46546811e-01],\n",
       "       [3.14983975e-02, 9.68501602e-01],\n",
       "       [9.24682510e-01, 7.53174897e-02],\n",
       "       [2.63469476e-01, 7.36530524e-01],\n",
       "       [9.62468563e-01, 3.75314370e-02],\n",
       "       [2.46651073e-01, 7.53348927e-01],\n",
       "       [3.89855351e-01, 6.10144649e-01],\n",
       "       [9.53783294e-01, 4.62167058e-02],\n",
       "       [7.65898023e-01, 2.34101977e-01],\n",
       "       [1.23821538e-01, 8.76178462e-01],\n",
       "       [9.52616180e-01, 4.73838196e-02],\n",
       "       [2.22544112e-01, 7.77455888e-01],\n",
       "       [7.65180109e-01, 2.34819891e-01],\n",
       "       [9.21251466e-01, 7.87485343e-02],\n",
       "       [3.81649834e-01, 6.18350166e-01],\n",
       "       [3.09959458e-01, 6.90040542e-01],\n",
       "       [4.26819312e-01, 5.73180688e-01],\n",
       "       [2.40033836e-01, 7.59966164e-01],\n",
       "       [9.60090688e-01, 3.99093119e-02],\n",
       "       [4.19232292e-01, 5.80767708e-01],\n",
       "       [7.59876207e-01, 2.40123793e-01],\n",
       "       [1.33353539e-01, 8.66646461e-01],\n",
       "       [9.56724165e-01, 4.32758347e-02],\n",
       "       [9.14597809e-01, 8.54021914e-02],\n",
       "       [9.21815497e-01, 7.81845032e-02],\n",
       "       [9.61568638e-01, 3.84313623e-02],\n",
       "       [9.61032828e-01, 3.89671725e-02],\n",
       "       [3.97694260e-01, 6.02305740e-01],\n",
       "       [9.61510582e-01, 3.84894177e-02],\n",
       "       [9.62134697e-01, 3.78653031e-02],\n",
       "       [9.01784489e-01, 9.82155106e-02],\n",
       "       [9.35125353e-01, 6.48746466e-02],\n",
       "       [4.22717133e-01, 5.77282867e-01],\n",
       "       [9.07959492e-01, 9.20405078e-02],\n",
       "       [9.57501955e-01, 4.24980445e-02],\n",
       "       [4.69812419e-03, 9.95301876e-01],\n",
       "       [4.89952734e-01, 5.10047266e-01],\n",
       "       [9.56236754e-01, 4.37632463e-02],\n",
       "       [9.62090859e-01, 3.79091411e-02],\n",
       "       [9.55063750e-01, 4.49362502e-02],\n",
       "       [3.46306939e-01, 6.53693061e-01],\n",
       "       [9.22364704e-01, 7.76352957e-02],\n",
       "       [9.19555650e-01, 8.04443503e-02],\n",
       "       [9.60061519e-01, 3.99384810e-02],\n",
       "       [9.62219287e-01, 3.77807128e-02],\n",
       "       [5.57972280e-02, 9.44202772e-01],\n",
       "       [4.22098207e-01, 5.77901793e-01],\n",
       "       [7.69705049e-01, 2.30294951e-01],\n",
       "       [4.14234551e-01, 5.85765449e-01],\n",
       "       [9.61542877e-01, 3.84571230e-02],\n",
       "       [9.62922663e-01, 3.70773370e-02],\n",
       "       [6.54057158e-02, 9.34594284e-01],\n",
       "       [1.49520629e-02, 9.85047937e-01],\n",
       "       [9.22403174e-01, 7.75968262e-02],\n",
       "       [6.76994528e-01, 3.23005472e-01],\n",
       "       [9.05270182e-01, 9.47298178e-02],\n",
       "       [6.76994528e-01, 3.23005472e-01],\n",
       "       [9.57476387e-01, 4.25236129e-02],\n",
       "       [9.61562970e-01, 3.84370305e-02],\n",
       "       [2.64432430e-01, 7.35567570e-01],\n",
       "       [9.61324190e-01, 3.86758096e-02],\n",
       "       [8.44935693e-01, 1.55064307e-01],\n",
       "       [4.22806762e-01, 5.77193238e-01],\n",
       "       [9.22324617e-01, 7.76753829e-02],\n",
       "       [4.37988640e-02, 9.56201136e-01],\n",
       "       [7.04895779e-02, 9.29510422e-01],\n",
       "       [1.28783525e-01, 8.71216475e-01],\n",
       "       [9.24100061e-01, 7.58999391e-02],\n",
       "       [9.36832293e-01, 6.31677067e-02],\n",
       "       [9.61568638e-01, 3.84313623e-02],\n",
       "       [9.23191321e-01, 7.68086785e-02],\n",
       "       [7.39827906e-01, 2.60172094e-01],\n",
       "       [7.14996320e-01, 2.85003680e-01],\n",
       "       [9.54170623e-01, 4.58293771e-02],\n",
       "       [9.61482985e-01, 3.85170154e-02],\n",
       "       [9.55087633e-01, 4.49123674e-02],\n",
       "       [9.19307427e-01, 8.06925728e-02],\n",
       "       [8.98131170e-01, 1.01868830e-01],\n",
       "       [8.73466706e-01, 1.26533294e-01],\n",
       "       [4.20310566e-01, 5.79689434e-01],\n",
       "       [9.51828389e-01, 4.81716106e-02],\n",
       "       [9.54083753e-01, 4.59162471e-02],\n",
       "       [2.42279819e-09, 9.99999998e-01],\n",
       "       [9.16812488e-01, 8.31875116e-02],\n",
       "       [9.62475002e-01, 3.75249983e-02],\n",
       "       [9.23351006e-01, 7.66489938e-02],\n",
       "       [1.35332317e-02, 9.86466768e-01],\n",
       "       [2.62776239e-01, 7.37223761e-01],\n",
       "       [9.61360150e-01, 3.86398504e-02],\n",
       "       [2.32876973e-01, 7.67123027e-01],\n",
       "       [8.64166321e-01, 1.35833679e-01],\n",
       "       [4.87165855e-08, 9.99999951e-01],\n",
       "       [7.62816190e-01, 2.37183810e-01]])"
      ]
     },
     "execution_count": 20,
     "metadata": {},
     "output_type": "execute_result"
    }
   ],
   "source": [
    "model.predict_proba(x_test)"
   ]
  },
  {
   "cell_type": "code",
   "execution_count": null,
   "id": "bc13874d",
   "metadata": {},
   "outputs": [],
   "source": []
  }
 ],
 "metadata": {
  "kernelspec": {
   "display_name": "Python 3 (ipykernel)",
   "language": "python",
   "name": "python3"
  },
  "language_info": {
   "codemirror_mode": {
    "name": "ipython",
    "version": 3
   },
   "file_extension": ".py",
   "mimetype": "text/x-python",
   "name": "python",
   "nbconvert_exporter": "python",
   "pygments_lexer": "ipython3",
   "version": "3.9.13"
  }
 },
 "nbformat": 4,
 "nbformat_minor": 5
}
